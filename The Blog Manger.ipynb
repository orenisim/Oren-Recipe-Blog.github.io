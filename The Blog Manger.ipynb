{
 "cells": [
  {
   "cell_type": "code",
   "execution_count": 24,
   "id": "c56e9536",
   "metadata": {},
   "outputs": [],
   "source": [
    "import os\n",
    "import openai\n",
    "from git import Repo\n",
    "from pathlib import Path\n",
    "import shutil\n",
    "from bs4 import BeautifulSoup as Soup"
   ]
  },
  {
   "cell_type": "code",
   "execution_count": 3,
   "id": "a366b261",
   "metadata": {},
   "outputs": [
    {
     "data": {
      "text/plain": [
       "'/Users/orennisim/Desktop/Udemy Courses/OpenAI python API bootcamp/Exercies/Automatic Blog post'"
      ]
     },
     "execution_count": 3,
     "metadata": {},
     "output_type": "execute_result"
    }
   ],
   "source": [
    "pwd"
   ]
  },
  {
   "cell_type": "code",
   "execution_count": 5,
   "id": "a7789e80",
   "metadata": {},
   "outputs": [],
   "source": [
    "PATH_TO_BLOG_REPO = Path('/Users/orennisim/Desktop/Udemy Courses/OpenAI python API bootcamp/Exercies/Automatic Blog post/.git')"
   ]
  },
  {
   "cell_type": "code",
   "execution_count": 6,
   "id": "de33e04f",
   "metadata": {},
   "outputs": [
    {
     "data": {
      "text/plain": [
       "PosixPath('/Users/orennisim/Desktop/Udemy Courses/OpenAI python API bootcamp/Exercies/Automatic Blog post')"
      ]
     },
     "execution_count": 6,
     "metadata": {},
     "output_type": "execute_result"
    }
   ],
   "source": [
    "PATH_TO_BLOG_REPO.parent"
   ]
  },
  {
   "cell_type": "code",
   "execution_count": 7,
   "id": "9284bfb1",
   "metadata": {},
   "outputs": [],
   "source": [
    "PATH_TO_BLOG = PATH_TO_BLOG_REPO.parent"
   ]
  },
  {
   "cell_type": "code",
   "execution_count": 8,
   "id": "b46306ea",
   "metadata": {},
   "outputs": [],
   "source": [
    "PATH_TO_CONTENT = PATH_TO_BLOG/\"content\""
   ]
  },
  {
   "cell_type": "code",
   "execution_count": 9,
   "id": "2f8f87a7",
   "metadata": {},
   "outputs": [
    {
     "data": {
      "text/plain": [
       "PosixPath('/Users/orennisim/Desktop/Udemy Courses/OpenAI python API bootcamp/Exercies/Automatic Blog post/content')"
      ]
     },
     "execution_count": 9,
     "metadata": {},
     "output_type": "execute_result"
    }
   ],
   "source": [
    "PATH_TO_CONTENT"
   ]
  },
  {
   "cell_type": "code",
   "execution_count": 11,
   "id": "0a739b3b",
   "metadata": {},
   "outputs": [],
   "source": [
    "PATH_TO_CONTENT.mkdir(exist_ok=True,parents=True)"
   ]
  },
  {
   "cell_type": "code",
   "execution_count": 12,
   "id": "960b384a",
   "metadata": {},
   "outputs": [],
   "source": [
    "#Function that updates our blogs via commiting to the Repository.\n",
    "def update_blog(commit_message=\"Updated blog\"):\n",
    "    #GitPython --Repo Location\n",
    "    repo = Repo(PATH_TO_BLOG_REPO)\n",
    "    #git add .\n",
    "    repo.git.add(all=True)\n",
    "    #git commit .\n",
    "    repo.index.commit(commit_message)\n",
    "    # git push\n",
    "    origin = repo.remote(name='origin')\n",
    "    origin.push()"
   ]
  },
  {
   "cell_type": "code",
   "execution_count": 14,
   "id": "41b945f3",
   "metadata": {},
   "outputs": [],
   "source": [
    "def create_new_blog(title, content, cover_image=Path(\"../PT Centered Purple.png\")):\n",
    "    \n",
    "    cover_image = Path(cover_image)\n",
    "    \n",
    "    #count the number of html files that we have\n",
    "    files =len(list(PATH_TO_CONTENT.glob(\"*.html\")))\n",
    "    new_title = f\"{files+1}.html\"\n",
    "    path_to_new_content = PATH_TO_CONTENT/new_title\n",
    "    \n",
    "    shutil.copy(cover_image, PATH_TO_CONTENT)\n",
    "    if not os.path.exists(path_to_new_content):\n",
    "        # Write a new HTML file\n",
    "        with open(path_to_new_content, \"w\") as f:\n",
    "            \n",
    "            #The head of the HTML page\n",
    "            f.write(\"<!DOCTYPE html>\\n\")\n",
    "            f.write(\"<html>\\n\")\n",
    "            f.write(\"<head>\\n\")\n",
    "            f.write(f\"<title> {title} </title>\\n\")\n",
    "            f.write(\"</head>\\n\")\n",
    "            \n",
    "            f.write(\"<body>\\n\")\n",
    "            \n",
    "            #Insert the image from DALEE\n",
    "            f.write(f\"<img src='{cover_image.name}' alt='Cover Image'> <br />\\n\")\n",
    "            f.write(f\"<h1> {title} </h1>\")\n",
    "            \n",
    "            #Insert the recipe from OpenAI\n",
    "            f.write(content.replace(\"\\n\", \"<br />\\n\"))\n",
    "            f.write(\"</body>\\n\")\n",
    "            f.write(\"</html>\\n\")\n",
    "            print(\"Blog created\")\n",
    "            return path_to_new_content\n",
    "    else:\n",
    "        raise FileExistsError(\"File already exist! Abort\")"
   ]
  },
  {
   "cell_type": "code",
   "execution_count": 15,
   "id": "3eff7eef",
   "metadata": {},
   "outputs": [
    {
     "name": "stdout",
     "output_type": "stream",
     "text": [
      "Blog created\n"
     ]
    }
   ],
   "source": [
    "path_to_new_content = create_new_blog('Test Title', 'holla amogissf fdhfjsn', 'Bacon and Egg French Toast.png')"
   ]
  },
  {
   "cell_type": "code",
   "execution_count": 31,
   "id": "87e7cdc4",
   "metadata": {},
   "outputs": [],
   "source": [
    "# Index.html --> Blog posts\n",
    "with open(PATH_TO_BLOG/\"index.html\") as index:\n",
    "    soup = Soup(index.read())\n"
   ]
  },
  {
   "cell_type": "code",
   "execution_count": 33,
   "id": "6402b067",
   "metadata": {},
   "outputs": [
    {
     "data": {
      "text/plain": [
       "<html lang=\"en\">\n",
       "<head>\n",
       "<meta charset=\"utf-8\"/>\n",
       "<meta content=\"IE=edge\" http-equiv=\"X-UA-Compatible\"/>\n",
       "<meta content=\"width=device-width, initial-scale=1.0\" name=\"viewport\"/>\n",
       "<title>Blog</title>\n",
       "</head>\n",
       "<body>\n",
       "<h1>Hello get ready for some Recipes!!</h1>\n",
       "<a href=\"index.\n",
       "    \">Home</a>\n",
       "</body>\n",
       "</html>"
      ]
     },
     "execution_count": 33,
     "metadata": {},
     "output_type": "execute_result"
    }
   ],
   "source": [
    "soup"
   ]
  },
  {
   "cell_type": "code",
   "execution_count": 32,
   "id": "07f625c7",
   "metadata": {},
   "outputs": [],
   "source": [
    "def check_for_duplicate_links(path_to_new_content, links):\n",
    "    #A list of current existing blogs\n",
    "    urls = [str(link.get(\"href\")) for link in links]\n",
    "    content_path = str(Path(*path_to_new_content.parts[-2:]))\n",
    "    return content_path in urls\n",
    "    "
   ]
  },
  {
   "cell_type": "code",
   "execution_count": null,
   "id": "5be116f2",
   "metadata": {},
   "outputs": [],
   "source": [
    "def write_to_index(path_to_new_content):\n",
    "    with open(PATH_TO_BLOG/\"index.html\") as index:\n",
    "        soup = Soup(index.read())\n",
    "\n",
    "    links = soup.find_all(\"a\")\n",
    "    last_link = links[-1]\n",
    "    \n",
    "    if check_for_duplicate_links(path_to_new_content, links):\n",
    "        raise ValueError(\"Link does already exist!\")\n",
    "        \n",
    "    link_to_new_blog = soup.new_tag(\"a\", href=Path(*path_to_new_content.parts[-2:]))\n",
    "    link_to_new_blog.string = path_to_new_content.name.split(\".\")[0]\n",
    "    last_link.insert_after(link_to_new_blog)\n",
    "    \n",
    "    with open(PATH_TO_BLOG/\"index.html\", \"w\") as f:\n",
    "        f.write(str(soup.prettify(formatter='html')))"
   ]
  }
 ],
 "metadata": {
  "kernelspec": {
   "display_name": "Python 3 (ipykernel)",
   "language": "python",
   "name": "python3"
  },
  "language_info": {
   "codemirror_mode": {
    "name": "ipython",
    "version": 3
   },
   "file_extension": ".py",
   "mimetype": "text/x-python",
   "name": "python",
   "nbconvert_exporter": "python",
   "pygments_lexer": "ipython3",
   "version": "3.10.9"
  }
 },
 "nbformat": 4,
 "nbformat_minor": 5
}
