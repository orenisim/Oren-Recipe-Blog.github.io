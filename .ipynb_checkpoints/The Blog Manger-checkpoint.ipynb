{
 "cells": [
  {
   "cell_type": "code",
   "execution_count": 1,
   "id": "3ea99c1a",
   "metadata": {},
   "outputs": [
    {
     "name": "stdout",
     "output_type": "stream",
     "text": [
      "Collecting GitPython\n",
      "  Downloading GitPython-3.1.31-py3-none-any.whl (184 kB)\n",
      "\u001b[2K     \u001b[90m━━━━━━━━━━━━━━━━━━━━━━━━━━━━━━━━━━━━━\u001b[0m \u001b[32m184.3/184.3 kB\u001b[0m \u001b[31m854.2 kB/s\u001b[0m eta \u001b[36m0:00:00\u001b[0m00:01\u001b[0m00:01\u001b[0m\n",
      "\u001b[?25hCollecting gitdb<5,>=4.0.1\n",
      "  Downloading gitdb-4.0.10-py3-none-any.whl (62 kB)\n",
      "\u001b[2K     \u001b[90m━━━━━━━━━━━━━━━━━━━━━━━━━━━━━━━━━━━━━━━━\u001b[0m \u001b[32m62.7/62.7 kB\u001b[0m \u001b[31m5.8 MB/s\u001b[0m eta \u001b[36m0:00:00\u001b[0m\n",
      "\u001b[?25hCollecting smmap<6,>=3.0.1\n",
      "  Downloading smmap-5.0.0-py3-none-any.whl (24 kB)\n",
      "Installing collected packages: smmap, gitdb, GitPython\n",
      "Successfully installed GitPython-3.1.31 gitdb-4.0.10 smmap-5.0.0\n"
     ]
    }
   ],
   "source": [
    "!pip install GitPython"
   ]
  },
  {
   "cell_type": "code",
   "execution_count": 13,
   "id": "6f7a9398",
   "metadata": {},
   "outputs": [],
   "source": [
    "import os\n",
    "import openai\n",
    "from git import Repo\n",
    "from pathlib import Path\n",
    "import shutil"
   ]
  },
  {
   "cell_type": "code",
   "execution_count": 3,
   "id": "ff63a903",
   "metadata": {},
   "outputs": [
    {
     "data": {
      "text/plain": [
       "'/Users/orennisim/Desktop/Udemy Courses/OpenAI python API bootcamp/Exercies/Automatic Blog post'"
      ]
     },
     "execution_count": 3,
     "metadata": {},
     "output_type": "execute_result"
    }
   ],
   "source": [
    "pwd"
   ]
  },
  {
   "cell_type": "code",
   "execution_count": 5,
   "id": "665dc6e8",
   "metadata": {},
   "outputs": [],
   "source": [
    "PATH_TO_BLOG_REPO = Path('/Users/orennisim/Desktop/Udemy Courses/OpenAI python API bootcamp/Exercies/Automatic Blog post/.git')"
   ]
  },
  {
   "cell_type": "code",
   "execution_count": 6,
   "id": "9cd6db28",
   "metadata": {},
   "outputs": [
    {
     "data": {
      "text/plain": [
       "PosixPath('/Users/orennisim/Desktop/Udemy Courses/OpenAI python API bootcamp/Exercies/Automatic Blog post')"
      ]
     },
     "execution_count": 6,
     "metadata": {},
     "output_type": "execute_result"
    }
   ],
   "source": [
    "PATH_TO_BLOG_REPO.parent"
   ]
  },
  {
   "cell_type": "code",
   "execution_count": 7,
   "id": "82006fd2",
   "metadata": {},
   "outputs": [],
   "source": [
    "PATH_TO_BLOG = PATH_TO_BLOG_REPO.parent"
   ]
  },
  {
   "cell_type": "code",
   "execution_count": 8,
   "id": "33b2eb81",
   "metadata": {},
   "outputs": [],
   "source": [
    "PATH_TO_CONTENT = PATH_TO_BLOG/\"content\""
   ]
  },
  {
   "cell_type": "code",
   "execution_count": 9,
   "id": "3b20fa8c",
   "metadata": {},
   "outputs": [
    {
     "data": {
      "text/plain": [
       "PosixPath('/Users/orennisim/Desktop/Udemy Courses/OpenAI python API bootcamp/Exercies/Automatic Blog post/content')"
      ]
     },
     "execution_count": 9,
     "metadata": {},
     "output_type": "execute_result"
    }
   ],
   "source": [
    "PATH_TO_CONTENT"
   ]
  },
  {
   "cell_type": "code",
   "execution_count": 11,
   "id": "8897a375",
   "metadata": {},
   "outputs": [],
   "source": [
    "PATH_TO_CONTENT.mkdir(exist_ok=True,parents=True)"
   ]
  },
  {
   "cell_type": "code",
   "execution_count": 12,
   "id": "10ede045",
   "metadata": {},
   "outputs": [],
   "source": [
    "#Function that updates our blogs via commiting to the Repository.\n",
    "def update_blog(commit_message=\"Updated blog\"):\n",
    "    #GitPython --Repo Location\n",
    "    repo = Repo(PATH_TO_BLOG_REPO)\n",
    "    #git add .\n",
    "    repo.git.add(all=True)\n",
    "    #git commit .\n",
    "    repo.index.commit(commit_message)\n",
    "    # git push\n",
    "    origin = repo.remote(name='origin')\n",
    "    origin.push()"
   ]
  },
  {
   "cell_type": "code",
   "execution_count": null,
   "id": "ad8afc70",
   "metadata": {},
   "outputs": [],
   "source": [
    "def create_new_blog(title, content, cover_image=Path(\"../PT Centered Purple.png\")):\n",
    "    \n",
    "    cover_image = Path(cover_image)\n",
    "    \n",
    "    #count the number of html files that we have\n",
    "    files =len(list(PATH_TO_CONTENT.glob(\"*.html\")))\n",
    "    new_title = f\"{files+1}.html\"\n",
    "    path_to_new_content = PATH_TO_CONTENT/new_title\n",
    "    \n",
    "    shutil.copy(cover_image, PATH_TO_CONTENT)\n",
    "    if not os.path.exists(path_to_new_content):\n",
    "        # Write a new HTML file\n",
    "        with open(path_to_new_content, \"w\") as f:\n",
    "            \n",
    "            #The head of the HTML page\n",
    "            f.write(\"<!DOCTYPE html>\\n\")\n",
    "            f.write(\"<html>\\n\")\n",
    "            f.write(\"<head>\\n\")\n",
    "            f.write(f\"<title> {title} </title>\\n\")\n",
    "            f.write(\"</head>\\n\")\n",
    "            \n",
    "            f.write(\"<body>\\n\")\n",
    "            \n",
    "            #Insert the image from DALEE\n",
    "            f.write(f\"<img src='{cover_image.name}' alt='Cover Image'> <br />\\n\")\n",
    "            f.write(f\"<h1> {title} </h1>\")\n",
    "            \n",
    "            #Insert the recipe from OpenAI\n",
    "            f.write(content.replace(\"\\n\", \"<br />\\n\"))\n",
    "            f.write(\"</body>\\n\")\n",
    "            f.write(\"</html>\\n\")\n",
    "            print(\"Blog created\")\n",
    "            return path_to_new_content\n",
    "    else:\n",
    "        raise FileExistsError(\"File already exist! Abort\")"
   ]
  }
 ],
 "metadata": {
  "kernelspec": {
   "display_name": "Python 3 (ipykernel)",
   "language": "python",
   "name": "python3"
  },
  "language_info": {
   "codemirror_mode": {
    "name": "ipython",
    "version": 3
   },
   "file_extension": ".py",
   "mimetype": "text/x-python",
   "name": "python",
   "nbconvert_exporter": "python",
   "pygments_lexer": "ipython3",
   "version": "3.10.9"
  }
 },
 "nbformat": 4,
 "nbformat_minor": 5
}
